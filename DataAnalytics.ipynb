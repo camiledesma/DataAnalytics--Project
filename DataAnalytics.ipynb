{
 "cells": [
  {
   "cell_type": "code",
   "execution_count": 1,
   "metadata": {},
   "outputs": [],
   "source": [
    "import pandas as pd\n"
   ]
  },
  {
   "cell_type": "code",
   "execution_count": 2,
   "metadata": {},
   "outputs": [
    {
     "name": "stdout",
     "output_type": "stream",
     "text": [
      "     Año  Trimestre  Banda ancha fija  Dial up  Total        Periodo\n",
      "0   2022          4                11       12     11   Oct-Dic 2022\n",
      "1   2022          3                11       12     11  Jul-Sept 2022\n",
      "2   2022          2                11       12     11   Abr-Jun 2022\n",
      "3   2022          1                11       13     11   Ene-Mar 2022\n",
      "4   2021          4                10       13     10   Oct-Dic 2021\n",
      "5   2021          3                10       10     10  Jul-Sept 2021\n",
      "6   2021          2                10       10     10   Abr-Jun 2021\n",
      "7   2021          1                10       10     10   Ene-Mar 2021\n",
      "8   2020          4                10       10     10   Oct-Dic 2020\n",
      "9   2020          3                 9       10      9  Jul-Sept 2020\n",
      "10  2020          2                 9       10      9   Abr-Jun 2020\n",
      "11  2020          1                 9       10      9   Ene-Mar 2020\n",
      "12  2019          4                 9       10      9   Oct-Dic 2019\n",
      "13  2019          3                 9       22      9  Jul-Sept 2019\n",
      "14  2019          2                 9       22      9   Abr-Jun 2019\n",
      "15  2019          1                 9       22      9   Ene-Mar 2019\n",
      "16  2018          4                 8       22      8   Oct-Dic 2018\n",
      "17  2018          3                 8       27      8  Jul-Sept 2018\n",
      "18  2018          2                 8       27      8   Abr-Jun 2018\n",
      "19  2018          1                 8       27      8   Ene-Mar 2018\n",
      "20  2017          4                 8       27      8   Oct-Dic 2017\n",
      "21  2017          3                 8       28      8  Jul-Sept 2017\n",
      "22  2017          2                 7       29      7   Abr-Jun 2017\n",
      "23  2017          1                 7       29      7   Ene-Mar 2017\n",
      "24  2016          4                 7       29      7   Oct-Dic 2016\n",
      "25  2016          3                 7       29      7  Jul-Sept 2016\n",
      "26  2016          2                 7       32      7   Abr-Jun 2016\n",
      "27  2016          1                 7       33      7   Ene-Mar 2016\n",
      "28  2015          4                 7       33      7   Oct-Dic 2015\n",
      "29  2015          3                 7       33      7  Jul-Sept 2015\n",
      "30  2015          2                 7       33      7   Abr-Jun 2015\n",
      "31  2015          1                 7       38      7   Ene-Mar 2015\n",
      "32  2014          4                 7       39      7   Oct-Dic 2014\n",
      "33  2014          3                 7       36      7  Jul-Sept 2014\n",
      "34  2014          2                 6       36      6   Abr-Jun 2014\n",
      "35  2014          1                 6       36      6   Ene-Mar 2014\n"
     ]
    }
   ],
   "source": [
    "\n",
    "# Lee el archivo CSV en un DataFrame\n",
    "df_Internet_BAF = pd.read_csv('Internet_BAF.csv')\n",
    "\n",
    "# Muestra el DataFrame\n",
    "print(df_Internet_BAF)\n",
    "\n"
   ]
  },
  {
   "cell_type": "code",
   "execution_count": 3,
   "metadata": {},
   "outputs": [],
   "source": [
    "#Eliminar nulos\n",
    "df_Internet_BAF.dropna(inplace=True)"
   ]
  },
  {
   "cell_type": "code",
   "execution_count": 4,
   "metadata": {},
   "outputs": [],
   "source": [
    "#Eliminar duplicados\n",
    "df_Internet_BAF.drop_duplicates( keep=\"first\", inplace=True)"
   ]
  },
  {
   "cell_type": "code",
   "execution_count": 5,
   "metadata": {},
   "outputs": [
    {
     "data": {
      "text/html": [
       "<div>\n",
       "<style scoped>\n",
       "    .dataframe tbody tr th:only-of-type {\n",
       "        vertical-align: middle;\n",
       "    }\n",
       "\n",
       "    .dataframe tbody tr th {\n",
       "        vertical-align: top;\n",
       "    }\n",
       "\n",
       "    .dataframe thead th {\n",
       "        text-align: right;\n",
       "    }\n",
       "</style>\n",
       "<table border=\"1\" class=\"dataframe\">\n",
       "  <thead>\n",
       "    <tr style=\"text-align: right;\">\n",
       "      <th></th>\n",
       "      <th>Año</th>\n",
       "      <th>Trimestre</th>\n",
       "      <th>Banda ancha fija</th>\n",
       "      <th>Dial up</th>\n",
       "      <th>Total</th>\n",
       "      <th>Periodo</th>\n",
       "    </tr>\n",
       "  </thead>\n",
       "  <tbody>\n",
       "    <tr>\n",
       "      <th>0</th>\n",
       "      <td>2022</td>\n",
       "      <td>4</td>\n",
       "      <td>11</td>\n",
       "      <td>12</td>\n",
       "      <td>11</td>\n",
       "      <td>Oct-Dic 2022</td>\n",
       "    </tr>\n",
       "    <tr>\n",
       "      <th>1</th>\n",
       "      <td>2022</td>\n",
       "      <td>3</td>\n",
       "      <td>11</td>\n",
       "      <td>12</td>\n",
       "      <td>11</td>\n",
       "      <td>Jul-Sept 2022</td>\n",
       "    </tr>\n",
       "    <tr>\n",
       "      <th>2</th>\n",
       "      <td>2022</td>\n",
       "      <td>2</td>\n",
       "      <td>11</td>\n",
       "      <td>12</td>\n",
       "      <td>11</td>\n",
       "      <td>Abr-Jun 2022</td>\n",
       "    </tr>\n",
       "  </tbody>\n",
       "</table>\n",
       "</div>"
      ],
      "text/plain": [
       "    Año  Trimestre  Banda ancha fija  Dial up  Total        Periodo\n",
       "0  2022          4                11       12     11   Oct-Dic 2022\n",
       "1  2022          3                11       12     11  Jul-Sept 2022\n",
       "2  2022          2                11       12     11   Abr-Jun 2022"
      ]
     },
     "execution_count": 5,
     "metadata": {},
     "output_type": "execute_result"
    }
   ],
   "source": [
    "df_Internet_BAF.head(3)"
   ]
  },
  {
   "cell_type": "code",
   "execution_count": 6,
   "metadata": {},
   "outputs": [
    {
     "data": {
      "text/plain": [
       "(36, 6)"
      ]
     },
     "execution_count": 6,
     "metadata": {},
     "output_type": "execute_result"
    }
   ],
   "source": [
    "df_Internet_BAF.shape"
   ]
  },
  {
   "cell_type": "code",
   "execution_count": 7,
   "metadata": {},
   "outputs": [
    {
     "name": "stdout",
     "output_type": "stream",
     "text": [
      "<class 'pandas.core.frame.DataFrame'>\n",
      "RangeIndex: 36 entries, 0 to 35\n",
      "Data columns (total 6 columns):\n",
      " #   Column            Non-Null Count  Dtype \n",
      "---  ------            --------------  ----- \n",
      " 0   Año               36 non-null     int64 \n",
      " 1   Trimestre         36 non-null     int64 \n",
      " 2   Banda ancha fija  36 non-null     int64 \n",
      " 3   Dial up           36 non-null     int64 \n",
      " 4   Total             36 non-null     int64 \n",
      " 5   Periodo           36 non-null     object\n",
      "dtypes: int64(5), object(1)\n",
      "memory usage: 1.8+ KB\n"
     ]
    }
   ],
   "source": [
    "df_Internet_BAF.info()"
   ]
  },
  {
   "cell_type": "code",
   "execution_count": 8,
   "metadata": {},
   "outputs": [],
   "source": [
    "df_Internet_BAF['Periodo'] = df_Internet_BAF['Periodo'].astype(str)"
   ]
  },
  {
   "cell_type": "code",
   "execution_count": 9,
   "metadata": {},
   "outputs": [
    {
     "name": "stdout",
     "output_type": "stream",
     "text": [
      "Valores atípicos en la columna Banda ancha fija\n",
      "Empty DataFrame\n",
      "Columns: [Año, Trimestre, Banda ancha fija, Dial up, Total, Periodo]\n",
      "Index: []\n"
     ]
    }
   ],
   "source": [
    "#Outliers\n",
    "columna_de_interes = 'Banda ancha fija'  \n",
    "Q1 = df_Internet_BAF[columna_de_interes].quantile(0.25)\n",
    "Q3 = df_Internet_BAF[columna_de_interes].quantile(0.75)\n",
    "IQR = Q3 - Q1\n",
    "\n",
    "limite_inferior = Q1 - 1.5 * IQR\n",
    "limite_superior = Q3 + 1.5 * IQR\n",
    "\n",
    "outliers = df_Internet_BAF[(df_Internet_BAF[columna_de_interes] < limite_inferior) | (df_Internet_BAF[columna_de_interes] > limite_superior)]\n",
    "\n",
    "print(\"Valores atípicos en la columna\", columna_de_interes)\n",
    "print(outliers)\n"
   ]
  },
  {
   "cell_type": "code",
   "execution_count": 10,
   "metadata": {},
   "outputs": [
    {
     "name": "stdout",
     "output_type": "stream",
     "text": [
      "Outliers:\n",
      "Empty DataFrame\n",
      "Columns: [Año, Trimestre, Banda ancha fija, Dial up, Total, Periodo, Fecha]\n",
      "Index: []\n"
     ]
    }
   ],
   "source": [
    "#Outliers para la columan periodo\n",
    "trimestres_a_meses = {\n",
    "    'Ene-Mar': '01',\n",
    "    'Abr-Jun': '04',\n",
    "    'Jul-Sept': '07',\n",
    "    'Oct-Dic': '10'\n",
    "}\n",
    "df_Internet_BAF['Año'] = df_Internet_BAF['Periodo'].str.extract(r'(\\d{4})')\n",
    "\n",
    "df_Internet_BAF['Fecha'] = df_Internet_BAF['Periodo'].str.extract(r'(\\w+-\\w+) (\\d{4})')[0].map(trimestres_a_meses) + '-' + df_Internet_BAF['Año']\n",
    "\n",
    "df_Internet_BAF['Fecha'] = pd.to_datetime(df_Internet_BAF['Fecha'], format='%m-%Y')\n",
    "\n",
    "\n",
    "Q1 = df_Internet_BAF['Fecha'].quantile(0.25)\n",
    "Q3 = df_Internet_BAF['Fecha'].quantile(0.75)\n",
    "\n",
    "\n",
    "IQR = Q3 - Q1\n",
    "\n",
    "\n",
    "limite_inferior = Q1 - 1.5 * IQR\n",
    "limite_superior = Q3 + 1.5 * IQR\n",
    "\n",
    "outliers = df_Internet_BAF[(df_Internet_BAF['Fecha'] < limite_inferior) | (df_Internet_BAF['Fecha'] > limite_superior)]\n",
    "\n",
    "print(\"Outliers:\")\n",
    "print(outliers)\n"
   ]
  },
  {
   "cell_type": "markdown",
   "metadata": {},
   "source": [
    "Verificar que las columnas relacionadas con la banda ancha fija y dial-up estén en un formato consistente:"
   ]
  },
  {
   "cell_type": "code",
   "execution_count": 11,
   "metadata": {},
   "outputs": [
    {
     "name": "stdout",
     "output_type": "stream",
     "text": [
      "Banda ancha fija\n",
      "7     12\n",
      "9      7\n",
      "8      6\n",
      "10     5\n",
      "11     4\n",
      "6      2\n",
      "Name: count, dtype: int64\n"
     ]
    }
   ],
   "source": [
    "print(df_Internet_BAF['Banda ancha fija'].value_counts())\n"
   ]
  },
  {
   "cell_type": "code",
   "execution_count": null,
   "metadata": {},
   "outputs": [],
   "source": []
  },
  {
   "cell_type": "code",
   "execution_count": 12,
   "metadata": {},
   "outputs": [
    {
     "name": "stdout",
     "output_type": "stream",
     "text": [
      "     Año  Trimestre  Ingresos (miles de pesos)        Periodo\n",
      "0   2022          4                         72   Oct-Dic 2022\n",
      "1   2022          3                         64  Jul-Sept 2022\n",
      "2   2022          2                         60   Abr-Jun 2022\n",
      "3   2022          1                         55   Ene-Mar 2022\n",
      "4   2021          4                         45   Oct-Dic 2021\n",
      "5   2021          3                         43  Jul-Sept 2021\n",
      "6   2021          2                         38   Abr-Jun 2021\n",
      "7   2021          1                         37   Ene-Mar 2021\n",
      "8   2020          4                         34   Oct-Dic 2020\n",
      "9   2020          3                         32  Jul-Sept 2020\n",
      "10  2020          2                         32   Abr-Jun 2020\n",
      "11  2020          1                         30   Ene-Mar 2020\n",
      "12  2019          4                         24   Oct-Dic 2019\n",
      "13  2019          3                         22  Jul-Sept 2019\n",
      "14  2019          2                         21   Abr-Jun 2019\n",
      "15  2019          1                         20   Ene-Mar 2019\n",
      "16  2018          4                         17   Oct-Dic 2018\n",
      "17  2018          3                         15  Jul-Sept 2018\n",
      "18  2018          2                         14   Abr-Jun 2018\n",
      "19  2018          1                         13   Ene-Mar 2018\n",
      "20  2017          4                         11   Oct-Dic 2017\n",
      "21  2017          3                         10  Jul-Sept 2017\n",
      "22  2017          2                         10   Abr-Jun 2017\n",
      "23  2017          1                          9   Ene-Mar 2017\n",
      "24  2016          4                          7   Oct-Dic 2016\n",
      "25  2016          3                          7  Jul-Sept 2016\n",
      "26  2016          2                          7   Abr-Jun 2016\n",
      "27  2016          1                          6   Ene-Mar 2016\n",
      "28  2015          4                          5   Oct-Dic 2015\n",
      "29  2015          3                          5  Jul-Sept 2015\n",
      "30  2015          2                          5   Abr-Jun 2015\n",
      "31  2015          1                          5   Ene-Mar 2015\n",
      "32  2014          4                          4   Oct-Dic 2014\n",
      "33  2014          3                          3  Jul-Sept 2014\n",
      "34  2014          2                          3   Abr-Jun 2014\n",
      "35  2014          1                          3   Ene-Mar 2014\n"
     ]
    }
   ],
   "source": [
    "\n",
    "# Lee el archivo CSV en un DataFrame\n",
    "df_Internet_Ingresos = pd.read_csv('Internet_Ingresos.csv')\n",
    "print(df_Internet_Ingresos)\n",
    "\n"
   ]
  },
  {
   "cell_type": "code",
   "execution_count": 13,
   "metadata": {},
   "outputs": [],
   "source": [
    "#Eliminar nulos\n",
    "df_Internet_Ingresos.dropna(inplace=True)"
   ]
  },
  {
   "cell_type": "code",
   "execution_count": 14,
   "metadata": {},
   "outputs": [],
   "source": [
    "#Eliminar duplicados\n",
    "df_Internet_Ingresos.drop_duplicates( keep=\"first\", inplace=True)"
   ]
  },
  {
   "cell_type": "code",
   "execution_count": 15,
   "metadata": {},
   "outputs": [
    {
     "data": {
      "text/html": [
       "<div>\n",
       "<style scoped>\n",
       "    .dataframe tbody tr th:only-of-type {\n",
       "        vertical-align: middle;\n",
       "    }\n",
       "\n",
       "    .dataframe tbody tr th {\n",
       "        vertical-align: top;\n",
       "    }\n",
       "\n",
       "    .dataframe thead th {\n",
       "        text-align: right;\n",
       "    }\n",
       "</style>\n",
       "<table border=\"1\" class=\"dataframe\">\n",
       "  <thead>\n",
       "    <tr style=\"text-align: right;\">\n",
       "      <th></th>\n",
       "      <th>Año</th>\n",
       "      <th>Trimestre</th>\n",
       "      <th>Ingresos (miles de pesos)</th>\n",
       "      <th>Periodo</th>\n",
       "    </tr>\n",
       "  </thead>\n",
       "  <tbody>\n",
       "    <tr>\n",
       "      <th>0</th>\n",
       "      <td>2022</td>\n",
       "      <td>4</td>\n",
       "      <td>72</td>\n",
       "      <td>Oct-Dic 2022</td>\n",
       "    </tr>\n",
       "    <tr>\n",
       "      <th>1</th>\n",
       "      <td>2022</td>\n",
       "      <td>3</td>\n",
       "      <td>64</td>\n",
       "      <td>Jul-Sept 2022</td>\n",
       "    </tr>\n",
       "    <tr>\n",
       "      <th>2</th>\n",
       "      <td>2022</td>\n",
       "      <td>2</td>\n",
       "      <td>60</td>\n",
       "      <td>Abr-Jun 2022</td>\n",
       "    </tr>\n",
       "  </tbody>\n",
       "</table>\n",
       "</div>"
      ],
      "text/plain": [
       "    Año  Trimestre  Ingresos (miles de pesos)        Periodo\n",
       "0  2022          4                         72   Oct-Dic 2022\n",
       "1  2022          3                         64  Jul-Sept 2022\n",
       "2  2022          2                         60   Abr-Jun 2022"
      ]
     },
     "execution_count": 15,
     "metadata": {},
     "output_type": "execute_result"
    }
   ],
   "source": [
    "df_Internet_Ingresos.head(3)"
   ]
  },
  {
   "cell_type": "code",
   "execution_count": 16,
   "metadata": {},
   "outputs": [
    {
     "data": {
      "text/plain": [
       "(36, 4)"
      ]
     },
     "execution_count": 16,
     "metadata": {},
     "output_type": "execute_result"
    }
   ],
   "source": [
    "df_Internet_Ingresos.shape"
   ]
  },
  {
   "cell_type": "code",
   "execution_count": 17,
   "metadata": {},
   "outputs": [
    {
     "name": "stdout",
     "output_type": "stream",
     "text": [
      "<class 'pandas.core.frame.DataFrame'>\n",
      "RangeIndex: 36 entries, 0 to 35\n",
      "Data columns (total 4 columns):\n",
      " #   Column                     Non-Null Count  Dtype \n",
      "---  ------                     --------------  ----- \n",
      " 0   Año                        36 non-null     int64 \n",
      " 1   Trimestre                  36 non-null     int64 \n",
      " 2   Ingresos (miles de pesos)  36 non-null     int64 \n",
      " 3   Periodo                    36 non-null     object\n",
      "dtypes: int64(3), object(1)\n",
      "memory usage: 1.3+ KB\n"
     ]
    }
   ],
   "source": [
    "df_Internet_Ingresos.info()"
   ]
  },
  {
   "cell_type": "code",
   "execution_count": 18,
   "metadata": {},
   "outputs": [
    {
     "name": "stdout",
     "output_type": "stream",
     "text": [
      "Valores atípicos en la columna Ingresos (miles de pesos)\n",
      "    Año  Trimestre  Ingresos (miles de pesos)       Periodo\n",
      "0  2022          4                         72  Oct-Dic 2022\n"
     ]
    }
   ],
   "source": [
    "#Outliers\n",
    "columna_de_interes2 = 'Ingresos (miles de pesos)' \n",
    "Q1 = df_Internet_Ingresos[columna_de_interes2].quantile(0.25)\n",
    "Q3 = df_Internet_Ingresos[columna_de_interes2].quantile(0.75)\n",
    "IQR = Q3 - Q1\n",
    "\n",
    "limite_inferior = Q1 - 1.5 * IQR\n",
    "limite_superior = Q3 + 1.5 * IQR\n",
    "outliers = df_Internet_Ingresos[(df_Internet_Ingresos[columna_de_interes2] < limite_inferior) | (df_Internet_Ingresos[columna_de_interes2] > limite_superior)]\n",
    "print(\"Valores atípicos en la columna\", columna_de_interes2)\n",
    "print(outliers)"
   ]
  },
  {
   "cell_type": "code",
   "execution_count": 19,
   "metadata": {},
   "outputs": [
    {
     "name": "stdout",
     "output_type": "stream",
     "text": [
      "         Provincia     Partido                                Localidad ADSL  \\\n",
      "0     BUENOS AIRES  9 de Julio  Alfredo Demarchi (Est. Facundo Quiroga)   SI   \n",
      "1     BUENOS AIRES  9 de Julio                        Carlos María Naón   --   \n",
      "2     BUENOS AIRES  9 de Julio                                 Dudignac   --   \n",
      "3     BUENOS AIRES  9 de Julio                 La Aurora (Est. La Niña)   --   \n",
      "4     BUENOS AIRES  9 de Julio           Manuel B. Gonnet (Est. French)   SI   \n",
      "...            ...         ...                                      ...  ...   \n",
      "4306  BUENOS AIRES       Pilar                                    Pilar   SI   \n",
      "4307  BUENOS AIRES       Pilar                        Presidente Derqui   SI   \n",
      "4308  BUENOS AIRES       Pilar                       Roberto De Vicenzo   --   \n",
      "4309  BUENOS AIRES       Pilar                             Santa Teresa   --   \n",
      "4310  BUENOS AIRES       Pilar                              Tortuguitas   --   \n",
      "\n",
      "     Cablemódem Dial Up Fibra óptica  4G  3G Telefonía Fija Wireless Satelital  \n",
      "0            --      --           --  SI  SI             SI       --        --  \n",
      "1            --      --           --  SI  SI             SI       --        --  \n",
      "2            --      SI           --  SI  SI             SI       SI        --  \n",
      "3            --      --           --  SI  --             --       --        --  \n",
      "4            --      --           SI  SI  SI             SI       --        --  \n",
      "...         ...     ...          ...  ..  ..            ...      ...       ...  \n",
      "4306         SI      SI           SI  SI  SI             SI       SI        SI  \n",
      "4307         SI      --           SI  SI  SI             SI       SI        --  \n",
      "4308         --      --           --  SI  SI             --       --        --  \n",
      "4309         --      --           --  SI  SI             --       --        SI  \n",
      "4310         --      --           SI  SI  SI             --       SI        SI  \n",
      "\n",
      "[4311 rows x 12 columns]\n"
     ]
    }
   ],
   "source": [
    "# Lee el archivo CSV en un DataFrame\n",
    "df_Listadodelocalidadesconconectividadainternet= pd.read_csv('Listadodelocalidadesconconectividadainternet_2750221699404068267.csv')\n",
    "print(df_Listadodelocalidadesconconectividadainternet)"
   ]
  },
  {
   "cell_type": "code",
   "execution_count": 20,
   "metadata": {},
   "outputs": [],
   "source": [
    "#Eliminar nulos\n",
    "df_Listadodelocalidadesconconectividadainternet.dropna(inplace=True)"
   ]
  },
  {
   "cell_type": "code",
   "execution_count": 21,
   "metadata": {},
   "outputs": [],
   "source": [
    "#Eliminar duplicados\n",
    "df_Listadodelocalidadesconconectividadainternet.drop_duplicates( keep=\"first\", inplace=True)"
   ]
  },
  {
   "cell_type": "code",
   "execution_count": 22,
   "metadata": {},
   "outputs": [
    {
     "data": {
      "text/html": [
       "<div>\n",
       "<style scoped>\n",
       "    .dataframe tbody tr th:only-of-type {\n",
       "        vertical-align: middle;\n",
       "    }\n",
       "\n",
       "    .dataframe tbody tr th {\n",
       "        vertical-align: top;\n",
       "    }\n",
       "\n",
       "    .dataframe thead th {\n",
       "        text-align: right;\n",
       "    }\n",
       "</style>\n",
       "<table border=\"1\" class=\"dataframe\">\n",
       "  <thead>\n",
       "    <tr style=\"text-align: right;\">\n",
       "      <th></th>\n",
       "      <th>Provincia</th>\n",
       "      <th>Partido</th>\n",
       "      <th>Localidad</th>\n",
       "      <th>ADSL</th>\n",
       "      <th>Cablemódem</th>\n",
       "      <th>Dial Up</th>\n",
       "      <th>Fibra óptica</th>\n",
       "      <th>4G</th>\n",
       "      <th>3G</th>\n",
       "      <th>Telefonía Fija</th>\n",
       "      <th>Wireless</th>\n",
       "      <th>Satelital</th>\n",
       "    </tr>\n",
       "  </thead>\n",
       "  <tbody>\n",
       "    <tr>\n",
       "      <th>0</th>\n",
       "      <td>BUENOS AIRES</td>\n",
       "      <td>9 de Julio</td>\n",
       "      <td>Alfredo Demarchi (Est. Facundo Quiroga)</td>\n",
       "      <td>SI</td>\n",
       "      <td>--</td>\n",
       "      <td>--</td>\n",
       "      <td>--</td>\n",
       "      <td>SI</td>\n",
       "      <td>SI</td>\n",
       "      <td>SI</td>\n",
       "      <td>--</td>\n",
       "      <td>--</td>\n",
       "    </tr>\n",
       "    <tr>\n",
       "      <th>1</th>\n",
       "      <td>BUENOS AIRES</td>\n",
       "      <td>9 de Julio</td>\n",
       "      <td>Carlos María Naón</td>\n",
       "      <td>--</td>\n",
       "      <td>--</td>\n",
       "      <td>--</td>\n",
       "      <td>--</td>\n",
       "      <td>SI</td>\n",
       "      <td>SI</td>\n",
       "      <td>SI</td>\n",
       "      <td>--</td>\n",
       "      <td>--</td>\n",
       "    </tr>\n",
       "    <tr>\n",
       "      <th>2</th>\n",
       "      <td>BUENOS AIRES</td>\n",
       "      <td>9 de Julio</td>\n",
       "      <td>Dudignac</td>\n",
       "      <td>--</td>\n",
       "      <td>--</td>\n",
       "      <td>SI</td>\n",
       "      <td>--</td>\n",
       "      <td>SI</td>\n",
       "      <td>SI</td>\n",
       "      <td>SI</td>\n",
       "      <td>SI</td>\n",
       "      <td>--</td>\n",
       "    </tr>\n",
       "  </tbody>\n",
       "</table>\n",
       "</div>"
      ],
      "text/plain": [
       "      Provincia     Partido                                Localidad ADSL  \\\n",
       "0  BUENOS AIRES  9 de Julio  Alfredo Demarchi (Est. Facundo Quiroga)   SI   \n",
       "1  BUENOS AIRES  9 de Julio                        Carlos María Naón   --   \n",
       "2  BUENOS AIRES  9 de Julio                                 Dudignac   --   \n",
       "\n",
       "  Cablemódem Dial Up Fibra óptica  4G  3G Telefonía Fija Wireless Satelital  \n",
       "0         --      --           --  SI  SI             SI       --        --  \n",
       "1         --      --           --  SI  SI             SI       --        --  \n",
       "2         --      SI           --  SI  SI             SI       SI        --  "
      ]
     },
     "execution_count": 22,
     "metadata": {},
     "output_type": "execute_result"
    }
   ],
   "source": [
    "df_Listadodelocalidadesconconectividadainternet.head(3)"
   ]
  },
  {
   "cell_type": "code",
   "execution_count": 23,
   "metadata": {},
   "outputs": [
    {
     "data": {
      "text/plain": [
       "(4309, 12)"
      ]
     },
     "execution_count": 23,
     "metadata": {},
     "output_type": "execute_result"
    }
   ],
   "source": [
    "df_Listadodelocalidadesconconectividadainternet.shape"
   ]
  },
  {
   "cell_type": "code",
   "execution_count": 24,
   "metadata": {},
   "outputs": [
    {
     "name": "stdout",
     "output_type": "stream",
     "text": [
      "<class 'pandas.core.frame.DataFrame'>\n",
      "Index: 4309 entries, 0 to 4310\n",
      "Data columns (total 12 columns):\n",
      " #   Column          Non-Null Count  Dtype \n",
      "---  ------          --------------  ----- \n",
      " 0   Provincia       4309 non-null   object\n",
      " 1   Partido         4309 non-null   object\n",
      " 2   Localidad       4309 non-null   object\n",
      " 3   ADSL            4309 non-null   object\n",
      " 4   Cablemódem      4309 non-null   object\n",
      " 5   Dial Up         4309 non-null   object\n",
      " 6   Fibra óptica    4309 non-null   object\n",
      " 7   4G              4309 non-null   object\n",
      " 8   3G              4309 non-null   object\n",
      " 9   Telefonía Fija  4309 non-null   object\n",
      " 10  Wireless        4309 non-null   object\n",
      " 11  Satelital       4309 non-null   object\n",
      "dtypes: object(12)\n",
      "memory usage: 437.6+ KB\n"
     ]
    }
   ],
   "source": [
    "df_Listadodelocalidadesconconectividadainternet.info()"
   ]
  },
  {
   "cell_type": "code",
   "execution_count": 25,
   "metadata": {},
   "outputs": [
    {
     "name": "stdout",
     "output_type": "stream",
     "text": [
      "         Provincia      Partido                           Localidad  \\\n",
      "0     BUENOS AIRES   25 de Mayo                          25 de Mayo   \n",
      "1     BUENOS AIRES   25 de Mayo                     Agustín Mosconi   \n",
      "2     BUENOS AIRES   25 de Mayo                           Del Valle   \n",
      "3     BUENOS AIRES   25 de Mayo                           Ernestina   \n",
      "4     BUENOS AIRES   25 de Mayo                   Gobernador Ugarte   \n",
      "...            ...          ...                                 ...   \n",
      "3090       TUCUMAN   Tafí Viejo  Villa Mariano Moreno - El Colmenar   \n",
      "3091       TUCUMAN      Trancas                San Pedro de Colalao   \n",
      "3092       TUCUMAN      Trancas                   Villa  de Trancas   \n",
      "3093       TUCUMAN  Yerba Buena                       Villa Carmela   \n",
      "3094       TUCUMAN  Yerba Buena            Yerba Buena - Marcos Paz   \n",
      "\n",
      "     Link Indec  Otros  0,256 Mbps  0,375 Mbps  0,5 Mbps  0,512 Mbps  \\\n",
      "0       6854100    NaN         NaN         NaN       2.0         NaN   \n",
      "1       6854010    NaN         NaN         NaN       NaN         NaN   \n",
      "2       6854020    NaN         NaN         NaN       1.0         NaN   \n",
      "3       6854030    NaN         NaN         NaN       NaN         NaN   \n",
      "4       6854040    NaN         NaN         NaN       NaN         NaN   \n",
      "...         ...    ...         ...         ...       ...         ...   \n",
      "3090   90105100    NaN         NaN         NaN       NaN         NaN   \n",
      "3091   90112020    NaN         NaN         NaN       NaN         NaN   \n",
      "3092   90112030    4.0         NaN         NaN       NaN         NaN   \n",
      "3093   90119020    NaN         NaN         NaN       NaN         NaN   \n",
      "3094   90119030  176.0         NaN         NaN       NaN         NaN   \n",
      "\n",
      "      0,625 Mbps  ...  61 Mbps  62 Mbps  64 Mbps  65 Mbps  66 Mbps  70 Mbps  \\\n",
      "0            NaN  ...      NaN      NaN      NaN      NaN      NaN      NaN   \n",
      "1            NaN  ...      NaN      NaN      NaN      NaN      NaN      NaN   \n",
      "2            NaN  ...      NaN      NaN      NaN      NaN      NaN      NaN   \n",
      "3            NaN  ...      NaN      NaN      NaN      NaN      NaN      NaN   \n",
      "4            NaN  ...      NaN      NaN      NaN      1.0      NaN      NaN   \n",
      "...          ...  ...      ...      ...      ...      ...      ...      ...   \n",
      "3090         NaN  ...      NaN      NaN      NaN      NaN      NaN      NaN   \n",
      "3091         NaN  ...      NaN      NaN      NaN      NaN      NaN      NaN   \n",
      "3092         NaN  ...      NaN      NaN      NaN      NaN      NaN      NaN   \n",
      "3093         NaN  ...      NaN      NaN      NaN      NaN      NaN      NaN   \n",
      "3094         NaN  ...      NaN      NaN      NaN      NaN      NaN      NaN   \n",
      "\n",
      "      75 Mbps  78 Mbps  80 Mbps  83 Mbps  \n",
      "0         NaN      NaN     12.0      NaN  \n",
      "1         NaN      NaN      NaN      NaN  \n",
      "2         NaN      NaN      NaN      NaN  \n",
      "3         NaN      NaN      NaN      NaN  \n",
      "4         NaN      NaN      NaN      NaN  \n",
      "...       ...      ...      ...      ...  \n",
      "3090      NaN      NaN      NaN      NaN  \n",
      "3091      NaN      NaN      NaN      NaN  \n",
      "3092      NaN      NaN      NaN      NaN  \n",
      "3093      NaN      NaN      NaN      NaN  \n",
      "3094      NaN      NaN      NaN      NaN  \n",
      "\n",
      "[3095 rows x 83 columns]\n"
     ]
    }
   ],
   "source": [
    "\n",
    "# Lee el archivo CSV en un DataFrame\n",
    "df_InternetFijoxVelocidaddeBajada = pd.read_csv('AccesosaInternetfijoporvelocidaddebajadaylocalidad_2776171699568639953.csv')\n",
    "print(df_InternetFijoxVelocidaddeBajada)\n",
    "\n"
   ]
  },
  {
   "cell_type": "code",
   "execution_count": 26,
   "metadata": {},
   "outputs": [],
   "source": [
    "#Eliminar duplicados\n",
    "df_InternetFijoxVelocidaddeBajada.drop_duplicates( keep=\"first\", inplace=True)"
   ]
  },
  {
   "cell_type": "code",
   "execution_count": 27,
   "metadata": {},
   "outputs": [
    {
     "data": {
      "text/plain": [
       "(3095, 83)"
      ]
     },
     "execution_count": 27,
     "metadata": {},
     "output_type": "execute_result"
    }
   ],
   "source": [
    "df_InternetFijoxVelocidaddeBajada.shape"
   ]
  },
  {
   "cell_type": "code",
   "execution_count": 28,
   "metadata": {},
   "outputs": [
    {
     "data": {
      "text/html": [
       "<div>\n",
       "<style scoped>\n",
       "    .dataframe tbody tr th:only-of-type {\n",
       "        vertical-align: middle;\n",
       "    }\n",
       "\n",
       "    .dataframe tbody tr th {\n",
       "        vertical-align: top;\n",
       "    }\n",
       "\n",
       "    .dataframe thead th {\n",
       "        text-align: right;\n",
       "    }\n",
       "</style>\n",
       "<table border=\"1\" class=\"dataframe\">\n",
       "  <thead>\n",
       "    <tr style=\"text-align: right;\">\n",
       "      <th></th>\n",
       "      <th>Provincia</th>\n",
       "      <th>Partido</th>\n",
       "      <th>Localidad</th>\n",
       "      <th>Link Indec</th>\n",
       "      <th>Otros</th>\n",
       "      <th>0,256 Mbps</th>\n",
       "      <th>0,375 Mbps</th>\n",
       "      <th>0,5 Mbps</th>\n",
       "      <th>0,512 Mbps</th>\n",
       "      <th>0,625 Mbps</th>\n",
       "      <th>...</th>\n",
       "      <th>61 Mbps</th>\n",
       "      <th>62 Mbps</th>\n",
       "      <th>64 Mbps</th>\n",
       "      <th>65 Mbps</th>\n",
       "      <th>66 Mbps</th>\n",
       "      <th>70 Mbps</th>\n",
       "      <th>75 Mbps</th>\n",
       "      <th>78 Mbps</th>\n",
       "      <th>80 Mbps</th>\n",
       "      <th>83 Mbps</th>\n",
       "    </tr>\n",
       "  </thead>\n",
       "  <tbody>\n",
       "    <tr>\n",
       "      <th>0</th>\n",
       "      <td>BUENOS AIRES</td>\n",
       "      <td>25 de Mayo</td>\n",
       "      <td>25 de Mayo</td>\n",
       "      <td>6854100</td>\n",
       "      <td>NaN</td>\n",
       "      <td>NaN</td>\n",
       "      <td>NaN</td>\n",
       "      <td>2.0</td>\n",
       "      <td>NaN</td>\n",
       "      <td>NaN</td>\n",
       "      <td>...</td>\n",
       "      <td>NaN</td>\n",
       "      <td>NaN</td>\n",
       "      <td>NaN</td>\n",
       "      <td>NaN</td>\n",
       "      <td>NaN</td>\n",
       "      <td>NaN</td>\n",
       "      <td>NaN</td>\n",
       "      <td>NaN</td>\n",
       "      <td>12.0</td>\n",
       "      <td>NaN</td>\n",
       "    </tr>\n",
       "    <tr>\n",
       "      <th>1</th>\n",
       "      <td>BUENOS AIRES</td>\n",
       "      <td>25 de Mayo</td>\n",
       "      <td>Agustín Mosconi</td>\n",
       "      <td>6854010</td>\n",
       "      <td>NaN</td>\n",
       "      <td>NaN</td>\n",
       "      <td>NaN</td>\n",
       "      <td>NaN</td>\n",
       "      <td>NaN</td>\n",
       "      <td>NaN</td>\n",
       "      <td>...</td>\n",
       "      <td>NaN</td>\n",
       "      <td>NaN</td>\n",
       "      <td>NaN</td>\n",
       "      <td>NaN</td>\n",
       "      <td>NaN</td>\n",
       "      <td>NaN</td>\n",
       "      <td>NaN</td>\n",
       "      <td>NaN</td>\n",
       "      <td>NaN</td>\n",
       "      <td>NaN</td>\n",
       "    </tr>\n",
       "    <tr>\n",
       "      <th>2</th>\n",
       "      <td>BUENOS AIRES</td>\n",
       "      <td>25 de Mayo</td>\n",
       "      <td>Del Valle</td>\n",
       "      <td>6854020</td>\n",
       "      <td>NaN</td>\n",
       "      <td>NaN</td>\n",
       "      <td>NaN</td>\n",
       "      <td>1.0</td>\n",
       "      <td>NaN</td>\n",
       "      <td>NaN</td>\n",
       "      <td>...</td>\n",
       "      <td>NaN</td>\n",
       "      <td>NaN</td>\n",
       "      <td>NaN</td>\n",
       "      <td>NaN</td>\n",
       "      <td>NaN</td>\n",
       "      <td>NaN</td>\n",
       "      <td>NaN</td>\n",
       "      <td>NaN</td>\n",
       "      <td>NaN</td>\n",
       "      <td>NaN</td>\n",
       "    </tr>\n",
       "  </tbody>\n",
       "</table>\n",
       "<p>3 rows × 83 columns</p>\n",
       "</div>"
      ],
      "text/plain": [
       "      Provincia     Partido        Localidad Link Indec  Otros  0,256 Mbps  \\\n",
       "0  BUENOS AIRES  25 de Mayo       25 de Mayo    6854100    NaN         NaN   \n",
       "1  BUENOS AIRES  25 de Mayo  Agustín Mosconi    6854010    NaN         NaN   \n",
       "2  BUENOS AIRES  25 de Mayo        Del Valle    6854020    NaN         NaN   \n",
       "\n",
       "   0,375 Mbps  0,5 Mbps  0,512 Mbps  0,625 Mbps  ...  61 Mbps  62 Mbps  \\\n",
       "0         NaN       2.0         NaN         NaN  ...      NaN      NaN   \n",
       "1         NaN       NaN         NaN         NaN  ...      NaN      NaN   \n",
       "2         NaN       1.0         NaN         NaN  ...      NaN      NaN   \n",
       "\n",
       "   64 Mbps  65 Mbps  66 Mbps  70 Mbps  75 Mbps  78 Mbps  80 Mbps  83 Mbps  \n",
       "0      NaN      NaN      NaN      NaN      NaN      NaN     12.0      NaN  \n",
       "1      NaN      NaN      NaN      NaN      NaN      NaN      NaN      NaN  \n",
       "2      NaN      NaN      NaN      NaN      NaN      NaN      NaN      NaN  \n",
       "\n",
       "[3 rows x 83 columns]"
      ]
     },
     "execution_count": 28,
     "metadata": {},
     "output_type": "execute_result"
    }
   ],
   "source": [
    "df_InternetFijoxVelocidaddeBajada.head(3)"
   ]
  },
  {
   "cell_type": "code",
   "execution_count": 29,
   "metadata": {},
   "outputs": [
    {
     "name": "stdout",
     "output_type": "stream",
     "text": [
      "<class 'pandas.core.frame.DataFrame'>\n",
      "RangeIndex: 3095 entries, 0 to 3094\n",
      "Data columns (total 83 columns):\n",
      " #   Column      Non-Null Count  Dtype  \n",
      "---  ------      --------------  -----  \n",
      " 0   Provincia   3095 non-null   object \n",
      " 1   Partido     3095 non-null   object \n",
      " 2   Localidad   3095 non-null   object \n",
      " 3   Link Indec  3095 non-null   object \n",
      " 4   Otros       962 non-null    float64\n",
      " 5   0,256 Mbps  28 non-null     float64\n",
      " 6   0,375 Mbps  1 non-null      float64\n",
      " 7   0,5 Mbps    643 non-null    float64\n",
      " 8   0,512 Mbps  523 non-null    float64\n",
      " 9   0,625 Mbps  1 non-null      float64\n",
      " 10  0,75 Mbps   284 non-null    float64\n",
      " 11  1 Mbps      891 non-null    float64\n",
      " 12  1,25 Mbps   1 non-null      float64\n",
      " 13  1,5 Mbps    15 non-null     float64\n",
      " 14  2 Mbps      722 non-null    float64\n",
      " 15  2,2 Mbps    1 non-null      float64\n",
      " 16  2,5 Mbps    4 non-null      float64\n",
      " 17  3 Mbps      1351 non-null   float64\n",
      " 18  3,3 Mbps    1 non-null      float64\n",
      " 19  3,5 Mbps    373 non-null    float64\n",
      " 20  4 Mbps      534 non-null    float64\n",
      " 21  4,5 Mbps    1 non-null      float64\n",
      " 22  5 Mbps      1003 non-null   float64\n",
      " 23  6 Mbps      1413 non-null   float64\n",
      " 24  6,4 Mbps    1 non-null      float64\n",
      " 25  7 Mbps      225 non-null    float64\n",
      " 26  7,5 Mbps    4 non-null      float64\n",
      " 27  8 Mbps      630 non-null    float64\n",
      " 28  9 Mbps      50 non-null     float64\n",
      " 29  10 Mbps     1731 non-null   float64\n",
      " 30  10,2 Mbps   1 non-null      float64\n",
      " 31  11 Mbps     27 non-null     float64\n",
      " 32  12 Mbps     306 non-null    float64\n",
      " 33  12,3 Mbps   1 non-null      float64\n",
      " 34  13 Mbps     16 non-null     float64\n",
      " 35  14 Mbps     24 non-null     float64\n",
      " 36  15 Mbps     1061 non-null   float64\n",
      " 37  16 Mbps     16 non-null     float64\n",
      " 38  17 Mbps     1 non-null      float64\n",
      " 39  18 Mbps     20 non-null     float64\n",
      " 40  20 Mbps     1106 non-null   float64\n",
      " 41  20,5 Mbps   1 non-null      float64\n",
      " 42  21 Mbps     5 non-null      float64\n",
      " 43  22 Mbps     2 non-null      float64\n",
      " 44  23 Mbps     2 non-null      float64\n",
      " 45  24 Mbps     19 non-null     float64\n",
      " 46  25 Mbps     457 non-null    float64\n",
      " 47  25,1 Mbps   1 non-null      float64\n",
      " 48  25,5 Mbps   1 non-null      float64\n",
      " 49  26 Mbps     1 non-null      float64\n",
      " 50  27 Mbps     1 non-null      float64\n",
      " 51  30 Mbps     724 non-null    float64\n",
      " 52  31 Mbps     4 non-null      float64\n",
      " 53  32 Mbps     2 non-null      float64\n",
      " 54  34 Mbps     1 non-null      float64\n",
      " 55  35 Mbps     13 non-null     float64\n",
      " 56  36 Mbps     3 non-null      float64\n",
      " 57  38 Mbps     1 non-null      float64\n",
      " 58  39 Mbps     1 non-null      float64\n",
      " 59  40 Mbps     98 non-null     float64\n",
      " 60  41 Mbps     1 non-null      float64\n",
      " 61  45 Mbps     3 non-null      float64\n",
      " 62  46 Mbps     1 non-null      float64\n",
      " 63  48 Mbps     4 non-null      float64\n",
      " 64  49 Mbps     1 non-null      float64\n",
      " 65  50 Mbps     692 non-null    float64\n",
      " 66  50,1 Mbps   1 non-null      float64\n",
      " 67  50,25 Mbps  1 non-null      float64\n",
      " 68  51 Mbps     2 non-null      float64\n",
      " 69  55 Mbps     3 non-null      float64\n",
      " 70  58 Mbps     1 non-null      float64\n",
      " 71  59 Mbps     1 non-null      float64\n",
      " 72  60 Mbps     261 non-null    float64\n",
      " 73  61 Mbps     3 non-null      float64\n",
      " 74  62 Mbps     1 non-null      float64\n",
      " 75  64 Mbps     1 non-null      float64\n",
      " 76  65 Mbps     2 non-null      float64\n",
      " 77  66 Mbps     1 non-null      float64\n",
      " 78  70 Mbps     17 non-null     float64\n",
      " 79  75 Mbps     231 non-null    float64\n",
      " 80  78 Mbps     1 non-null      float64\n",
      " 81  80 Mbps     31 non-null     float64\n",
      " 82  83 Mbps     1 non-null      float64\n",
      "dtypes: float64(79), object(4)\n",
      "memory usage: 2.0+ MB\n"
     ]
    }
   ],
   "source": [
    "df_InternetFijoxVelocidaddeBajada.info()"
   ]
  },
  {
   "cell_type": "code",
   "execution_count": 30,
   "metadata": {},
   "outputs": [],
   "source": [
    "df_InternetFijoxVelocidaddeBajada['Localidad'] = df_InternetFijoxVelocidaddeBajada['Localidad'].astype(str)\n",
    "df_InternetFijoxVelocidaddeBajada['Partido'] = df_InternetFijoxVelocidaddeBajada['Partido'].astype(str)\n",
    "\n"
   ]
  },
  {
   "cell_type": "code",
   "execution_count": 31,
   "metadata": {},
   "outputs": [],
   "source": [
    "df_InternetFijoxVelocidaddeBajada['Localidad'] = df_InternetFijoxVelocidaddeBajada['Localidad'].str.capitalize() \n",
    "df_InternetFijoxVelocidaddeBajada['Partido'] = df_InternetFijoxVelocidaddeBajada['Partido'].str.capitalize()  \n"
   ]
  },
  {
   "cell_type": "code",
   "execution_count": 32,
   "metadata": {},
   "outputs": [
    {
     "name": "stdout",
     "output_type": "stream",
     "text": [
      "      Año  Trimestre            Provincia Accesos por cada 100 hogares  \\\n",
      "0    2022          4         Buenos Aires                        78,94   \n",
      "1    2022          4      Capital Federal                       122,73   \n",
      "2    2022          4            Catamarca                        65,77   \n",
      "3    2022          4                Chaco                        43,62   \n",
      "4    2022          4               Chubut                        85,57   \n",
      "..    ...        ...                  ...                          ...   \n",
      "859  2014          1           Santa Cruz                        28,94   \n",
      "860  2014          1             Santa Fe                        47,85   \n",
      "861  2014          1  Santiago Del Estero                        16,31   \n",
      "862  2014          1     Tierra Del Fuego                        63,97   \n",
      "863  2014          1              Tucumán                        33,42   \n",
      "\n",
      "     Unnamed: 4  Unnamed: 5  Unnamed: 6  \n",
      "0           NaN         NaN         NaN  \n",
      "1           NaN         NaN         NaN  \n",
      "2           NaN         NaN         NaN  \n",
      "3           NaN         NaN         NaN  \n",
      "4           NaN         NaN         NaN  \n",
      "..          ...         ...         ...  \n",
      "859         NaN         NaN         NaN  \n",
      "860         NaN         NaN         NaN  \n",
      "861         NaN         NaN         NaN  \n",
      "862         NaN         NaN         NaN  \n",
      "863         NaN         NaN         NaN  \n",
      "\n",
      "[864 rows x 7 columns]\n"
     ]
    }
   ],
   "source": [
    "# Lee el archivo CSV en un DataFrame\n",
    "df_InternetPenetracion= pd.read_csv('Internet_Penetracion.csv')\n",
    "print(df_InternetPenetracion)"
   ]
  },
  {
   "cell_type": "code",
   "execution_count": 33,
   "metadata": {},
   "outputs": [],
   "source": [
    "#Eliminar duplicados\n",
    "df_InternetPenetracion.drop_duplicates( keep=\"first\", inplace=True)"
   ]
  },
  {
   "cell_type": "code",
   "execution_count": 34,
   "metadata": {},
   "outputs": [],
   "source": [
    "columnas_a_eliminar = ['Unnamed: 4', 'Unnamed: 5', 'Unnamed: 6']\n",
    "df_InternetPenetracion = df_InternetPenetracion.drop(columns=columnas_a_eliminar)\n"
   ]
  },
  {
   "cell_type": "code",
   "execution_count": 35,
   "metadata": {},
   "outputs": [
    {
     "data": {
      "text/html": [
       "<div>\n",
       "<style scoped>\n",
       "    .dataframe tbody tr th:only-of-type {\n",
       "        vertical-align: middle;\n",
       "    }\n",
       "\n",
       "    .dataframe tbody tr th {\n",
       "        vertical-align: top;\n",
       "    }\n",
       "\n",
       "    .dataframe thead th {\n",
       "        text-align: right;\n",
       "    }\n",
       "</style>\n",
       "<table border=\"1\" class=\"dataframe\">\n",
       "  <thead>\n",
       "    <tr style=\"text-align: right;\">\n",
       "      <th></th>\n",
       "      <th>Año</th>\n",
       "      <th>Trimestre</th>\n",
       "      <th>Provincia</th>\n",
       "      <th>Accesos por cada 100 hogares</th>\n",
       "    </tr>\n",
       "  </thead>\n",
       "  <tbody>\n",
       "    <tr>\n",
       "      <th>0</th>\n",
       "      <td>2022</td>\n",
       "      <td>4</td>\n",
       "      <td>Buenos Aires</td>\n",
       "      <td>78,94</td>\n",
       "    </tr>\n",
       "    <tr>\n",
       "      <th>1</th>\n",
       "      <td>2022</td>\n",
       "      <td>4</td>\n",
       "      <td>Capital Federal</td>\n",
       "      <td>122,73</td>\n",
       "    </tr>\n",
       "    <tr>\n",
       "      <th>2</th>\n",
       "      <td>2022</td>\n",
       "      <td>4</td>\n",
       "      <td>Catamarca</td>\n",
       "      <td>65,77</td>\n",
       "    </tr>\n",
       "  </tbody>\n",
       "</table>\n",
       "</div>"
      ],
      "text/plain": [
       "    Año  Trimestre        Provincia Accesos por cada 100 hogares\n",
       "0  2022          4     Buenos Aires                        78,94\n",
       "1  2022          4  Capital Federal                       122,73\n",
       "2  2022          4        Catamarca                        65,77"
      ]
     },
     "execution_count": 35,
     "metadata": {},
     "output_type": "execute_result"
    }
   ],
   "source": [
    "df_InternetPenetracion.head(3)"
   ]
  },
  {
   "cell_type": "code",
   "execution_count": 36,
   "metadata": {},
   "outputs": [
    {
     "data": {
      "text/plain": [
       "(864, 4)"
      ]
     },
     "execution_count": 36,
     "metadata": {},
     "output_type": "execute_result"
    }
   ],
   "source": [
    "df_InternetPenetracion.shape"
   ]
  },
  {
   "cell_type": "code",
   "execution_count": 37,
   "metadata": {},
   "outputs": [],
   "source": [
    "#Convirtiendo los df limpios en un nuevo csv\n",
    "df_InternetPenetracion.to_csv('Internet_Penetracion_Nuevo.csv', index=False)\n"
   ]
  },
  {
   "cell_type": "code",
   "execution_count": 38,
   "metadata": {},
   "outputs": [
    {
     "name": "stdout",
     "output_type": "stream",
     "text": [
      "<class 'pandas.core.frame.DataFrame'>\n",
      "RangeIndex: 864 entries, 0 to 863\n",
      "Data columns (total 4 columns):\n",
      " #   Column                        Non-Null Count  Dtype \n",
      "---  ------                        --------------  ----- \n",
      " 0   Año                           864 non-null    int64 \n",
      " 1   Trimestre                     864 non-null    int64 \n",
      " 2   Provincia                     864 non-null    object\n",
      " 3   Accesos por cada 100 hogares  864 non-null    object\n",
      "dtypes: int64(2), object(2)\n",
      "memory usage: 27.1+ KB\n"
     ]
    }
   ],
   "source": [
    "df_InternetPenetracion.info()"
   ]
  },
  {
   "cell_type": "code",
   "execution_count": 39,
   "metadata": {},
   "outputs": [],
   "source": [
    "df_InternetPenetracion['Accesos por cada 100 hogares'] = df_InternetPenetracion['Accesos por cada 100 hogares'].str.replace(',', '.').astype(float)\n"
   ]
  },
  {
   "cell_type": "markdown",
   "metadata": {},
   "source": [
    "Asegurarse de que las tasas de penetración sean coherentes y estén dentro de un rango lógico:"
   ]
  },
  {
   "cell_type": "code",
   "execution_count": 40,
   "metadata": {},
   "outputs": [],
   "source": [
    "valid_range = (0, 100)  # Definir el rango lógico\n",
    "df = df_InternetPenetracion[(df_InternetPenetracion['Accesos por cada 100 hogares'] >= valid_range[0]) & (df_InternetPenetracion['Accesos por cada 100 hogares'] <= valid_range[1])]\n"
   ]
  },
  {
   "cell_type": "code",
   "execution_count": 41,
   "metadata": {},
   "outputs": [],
   "source": [
    "Ingresos_penetracion_df = pd.merge(df_Internet_Ingresos, df_InternetPenetracion, on=['Año', 'Trimestre'])\n",
    "# Realizar comparaciones y validaciones\n"
   ]
  },
  {
   "cell_type": "code",
   "execution_count": 42,
   "metadata": {},
   "outputs": [
    {
     "data": {
      "text/html": [
       "<div>\n",
       "<style scoped>\n",
       "    .dataframe tbody tr th:only-of-type {\n",
       "        vertical-align: middle;\n",
       "    }\n",
       "\n",
       "    .dataframe tbody tr th {\n",
       "        vertical-align: top;\n",
       "    }\n",
       "\n",
       "    .dataframe thead th {\n",
       "        text-align: right;\n",
       "    }\n",
       "</style>\n",
       "<table border=\"1\" class=\"dataframe\">\n",
       "  <thead>\n",
       "    <tr style=\"text-align: right;\">\n",
       "      <th></th>\n",
       "      <th>Año</th>\n",
       "      <th>Trimestre</th>\n",
       "      <th>Ingresos (miles de pesos)</th>\n",
       "      <th>Periodo</th>\n",
       "      <th>Provincia</th>\n",
       "      <th>Accesos por cada 100 hogares</th>\n",
       "    </tr>\n",
       "  </thead>\n",
       "  <tbody>\n",
       "    <tr>\n",
       "      <th>0</th>\n",
       "      <td>2022</td>\n",
       "      <td>4</td>\n",
       "      <td>72</td>\n",
       "      <td>Oct-Dic 2022</td>\n",
       "      <td>Buenos Aires</td>\n",
       "      <td>78.94</td>\n",
       "    </tr>\n",
       "    <tr>\n",
       "      <th>1</th>\n",
       "      <td>2022</td>\n",
       "      <td>4</td>\n",
       "      <td>72</td>\n",
       "      <td>Oct-Dic 2022</td>\n",
       "      <td>Capital Federal</td>\n",
       "      <td>122.73</td>\n",
       "    </tr>\n",
       "    <tr>\n",
       "      <th>2</th>\n",
       "      <td>2022</td>\n",
       "      <td>4</td>\n",
       "      <td>72</td>\n",
       "      <td>Oct-Dic 2022</td>\n",
       "      <td>Catamarca</td>\n",
       "      <td>65.77</td>\n",
       "    </tr>\n",
       "  </tbody>\n",
       "</table>\n",
       "</div>"
      ],
      "text/plain": [
       "    Año  Trimestre  Ingresos (miles de pesos)       Periodo        Provincia  \\\n",
       "0  2022          4                         72  Oct-Dic 2022     Buenos Aires   \n",
       "1  2022          4                         72  Oct-Dic 2022  Capital Federal   \n",
       "2  2022          4                         72  Oct-Dic 2022        Catamarca   \n",
       "\n",
       "   Accesos por cada 100 hogares  \n",
       "0                         78.94  \n",
       "1                        122.73  \n",
       "2                         65.77  "
      ]
     },
     "execution_count": 42,
     "metadata": {},
     "output_type": "execute_result"
    }
   ],
   "source": [
    "Ingresos_penetracion_df.head(3)"
   ]
  },
  {
   "cell_type": "code",
   "execution_count": 43,
   "metadata": {},
   "outputs": [],
   "source": [
    "#Convirtiendo los df limpios en un nuevo csv\n",
    "Ingresos_penetracion_df.to_csv('Ingresos_penetracion_df.csv', index=False)"
   ]
  }
 ],
 "metadata": {
  "kernelspec": {
   "display_name": "Python 3",
   "language": "python",
   "name": "python3"
  },
  "language_info": {
   "codemirror_mode": {
    "name": "ipython",
    "version": 3
   },
   "file_extension": ".py",
   "mimetype": "text/x-python",
   "name": "python",
   "nbconvert_exporter": "python",
   "pygments_lexer": "ipython3",
   "version": "3.11.2"
  }
 },
 "nbformat": 4,
 "nbformat_minor": 2
}
